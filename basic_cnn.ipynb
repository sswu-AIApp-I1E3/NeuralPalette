{
 "cells": [
  {
   "cell_type": "code",
   "execution_count": null,
   "metadata": {
    "vscode": {
     "languageId": "plaintext"
    }
   },
   "outputs": [],
   "source": [
    "# 0. 기본 설정\n",
    "\n",
    "from google.colab import drive\n",
    "drive.mount('/content/drive')\n",
    "\n",
    "import os\n",
    "import zipfile\n",
    "\n",
    "# 기본 경로 설정\n",
    "base_path = '/content/drive/MyDrive'\n",
    "extract_root = os.path.join(base_path, 'emotions')\n",
    "\n",
    "# 감정별 zip 파일 리스트\n",
    "\n",
    "# emotion_zip_files = ['happy.zip', 'fear.zip', 'sadness.zip', 'anger.zip']\n",
    "\n",
    "# for zip_name in emotion_zip_files:\n",
    "#     zip_path = os.path.join(base_path, zip_name)\n",
    "#     emotion_name = zip_name.replace('.zip', '')\n",
    "#     extract_path = os.path.join(extract_root, emotion_name)\n",
    "#     # 압축 해제\n",
    "#     if not os.path.exists(extract_path) or len(os.listdir(extract_path)) == 0:\n",
    "#         os.makedirs(extract_path, exist_ok=True)\n",
    "#         with zipfile.ZipFile(zip_path, 'r') as zip_ref:\n",
    "#             zip_ref.extractall(extract_path)\n",
    "#         print(\" 압축 해제 완료!\")\n",
    "#     else:\n",
    "#         print(\"이미 압축이 해제되어 있어 건너뜁니다.\")"
   ]
  },
  {
   "cell_type": "code",
   "execution_count": null,
   "metadata": {
    "vscode": {
     "languageId": "plaintext"
    }
   },
   "outputs": [],
   "source": [
    "\n",
    "# 1. 필요한 라이브러리 임포트\n",
    "import random\n",
    "import pandas as pd\n",
    "from PIL import Image\n",
    "from sklearn.model_selection import train_test_split\n",
    "from torchvision import transforms, models\n",
    "from torch.utils.data import Dataset, DataLoader, WeightedRandomSampler\n",
    "import torch\n",
    "import torch.nn as nn\n",
    "import torch.optim as optim\n",
    "from tqdm import tqdm\n",
    "from datetime import datetime\n",
    "from PIL import ImageFile\n",
    "ImageFile.LOAD_TRUNCATED_IMAGES = True\n"
   ]
  },
  {
   "cell_type": "code",
   "execution_count": null,
   "metadata": {
    "vscode": {
     "languageId": "plaintext"
    }
   },
   "outputs": [],
   "source": [
    "\n",
    "# 2. 환경 세팅 (GPU 사용 가능하면 GPU로)\n",
    "device = torch.device('cuda' if torch.cuda.is_available() else 'cpu')\n",
    "print(f\"Device: {device}\")"
   ]
  },
  {
   "cell_type": "code",
   "execution_count": null,
   "metadata": {
    "vscode": {
     "languageId": "plaintext"
    }
   },
   "outputs": [],
   "source": [
    "# 3. 이미지 데이터셋 경로 (본인 환경에 맞게 수정)\n",
    "image_dir = '/content/drive/MyDrive/emotions'"
   ]
  },
  {
   "cell_type": "code",
   "execution_count": null,
   "metadata": {
    "vscode": {
     "languageId": "plaintext"
    }
   },
   "outputs": [],
   "source": [
    "# 4. 데이터프레임 생성 (파일명, 경로, 라벨)\n",
    "data = []\n",
    "for label in os.listdir(image_dir):\n",
    "    label_path = os.path.join(image_dir, label)\n",
    "    if os.path.isdir(label_path):\n",
    "        for fname in os.listdir(label_path):\n",
    "            if fname.lower().endswith(('.jpg', '.jpeg', '.png')):\n",
    "                full_path = os.path.join(label_path, fname)\n",
    "                try:\n",
    "                    img = Image.open(full_path)\n",
    "                    img.verify()\n",
    "                    data.append({'image': full_path, 'label': label})\n",
    "                except Exception as e:\n",
    "                    print(f\"Invalid image skipped: {full_path}\")\n",
    "\n",
    "\n",
    "df = pd.DataFrame(data)\n",
    "print(f\"총 이미지 수: {df.shape[0]}\")\n",
    "print(df['label'].value_counts())"
   ]
  },
  {
   "cell_type": "code",
   "execution_count": null,
   "metadata": {
    "vscode": {
     "languageId": "plaintext"
    }
   },
   "outputs": [],
   "source": [
    "# 5. 감정별로 stratified split 하기 (train 75%, val 15%, test 10%)\n",
    "train_list = []\n",
    "val_list = []\n",
    "test_list = []\n",
    "\n",
    "for label in df['label'].unique():\n",
    "    temp_df = df[df['label'] == label]\n",
    "    train_df, temp_df2 = train_test_split(temp_df, test_size=0.25, random_state=42, shuffle=True)\n",
    "    val_df, test_df = train_test_split(temp_df2, test_size=0.4, random_state=42, shuffle=True)\n",
    "    # 0.25 * 0.4 = 0.10 test\n",
    "\n",
    "    train_list.append(train_df)\n",
    "    val_list.append(val_df)\n",
    "    test_list.append(test_df)\n",
    "\n",
    "train_df = pd.concat(train_list).reset_index(drop=True)\n",
    "val_df = pd.concat(val_list).reset_index(drop=True)\n",
    "test_df = pd.concat(test_list).reset_index(drop=True)\n",
    "\n",
    "# 라벨 인덱스 생성\n",
    "label_to_idx = {label: idx for idx, label in enumerate(sorted(df['label'].unique()))}\n",
    "idx_to_label = {v: k for k, v in label_to_idx.items()}\n",
    "\n",
    "train_df['label_idx'] = train_df['label'].map(label_to_idx)\n",
    "val_df['label_idx'] = val_df['label'].map(label_to_idx)\n",
    "test_df['label_idx'] = test_df['label'].map(label_to_idx)\n",
    "\n",
    "print(\"Label to idx mapping:\", label_to_idx)\n",
    "print(f\"Train size: {len(train_df)}, Val size: {len(val_df)}, Test size: {len(test_df)}\")"
   ]
  },
  {
   "cell_type": "code",
   "execution_count": null,
   "metadata": {
    "vscode": {
     "languageId": "plaintext"
    }
   },
   "outputs": [],
   "source": [
    "# 6. Dataset 클래스 정의\n",
    "class EmotionDataset(Dataset):\n",
    "    def __init__(self, dataframe, transform=None):\n",
    "        self.dataframe = dataframe\n",
    "        self.transform = transform\n",
    "\n",
    "    def __len__(self):\n",
    "        return len(self.dataframe)\n",
    "\n",
    "    def __getitem__(self, idx):\n",
    "        row = self.dataframe.iloc[idx]\n",
    "        image = Image.open(row['image']).convert('RGB')\n",
    "        if self.transform:\n",
    "            image = self.transform(image)\n",
    "        label = row['label_idx']\n",
    "        return image, label"
   ]
  },
  {
   "cell_type": "code",
   "execution_count": null,
   "metadata": {
    "vscode": {
     "languageId": "plaintext"
    }
   },
   "outputs": [],
   "source": [
    "# 7. 전처리 정의\n",
    "# 데이터 전처리, 증식 train 랜덤 포함, val&test 랜덤 미포함\n",
    "train_transform = transforms.Compose([\n",
    "    transforms.Resize((224, 224)),\n",
    "    transforms.RandomHorizontalFlip(),\n",
    "    transforms.RandomRotation(5), # 랜덤 10 -> 5 로 조정\n",
    "    transforms.ColorJitter(brightness=0.1, contrast=0.1), # 0.2 -> 0.1 로 약하게 조정\n",
    "    transforms.ToTensor(),\n",
    "    transforms.Normalize(mean=[0.485,0.456,0.406], std=[0.229,0.224,0.225])\n",
    "])\n",
    "\n",
    "val_test_transform = transforms.Compose([\n",
    "    transforms.Resize((224, 224)),\n",
    "    transforms.ToTensor(),\n",
    "    transforms.Normalize(mean=[0.485,0.456,0.406], std=[0.229,0.224,0.225])\n",
    "])\n",
    "\n",
    "train_dataset = EmotionDataset(train_df, transform=train_transform)\n",
    "val_dataset = EmotionDataset(val_df, transform=val_test_transform)\n",
    "test_dataset = EmotionDataset(test_df, transform=val_test_transform)\n",
    "label_counts = train_df['label_idx'].value_counts().to_dict()\n",
    "\n",
    "# 각 샘플의 weight 계산 (클래스가 적을수록 높은 weight)\n",
    "weights = train_df['label_idx'].map(lambda x: 1.0 / label_counts[x]).values\n",
    "\n",
    "# WeightedRandomSampler 정의\n",
    "sampler = WeightedRandomSampler(weights, num_samples=len(weights), replacement=True)\n",
    "\n",
    "train_loader = DataLoader(train_dataset, batch_size=64, sampler=sampler, num_workers=2)\n",
    "val_loader = DataLoader(val_dataset, batch_size=64, shuffle=False, num_workers=2)\n",
    "test_loader = DataLoader(test_dataset, batch_size=64, shuffle=False, num_workers=2)"
   ]
  },
  {
   "cell_type": "code",
   "execution_count": null,
   "metadata": {
    "vscode": {
     "languageId": "plaintext"
    }
   },
   "outputs": [],
   "source": [
    "# 8. ResNet18을 미리 학습된 모델에서 불러와 fine-tuning\n",
    "model = models.resnet18(pretrained=True)\n",
    "in_features = model.fc.in_features\n",
    "model.fc = nn.Sequential(\n",
    "    nn.Dropout(0.3),\n",
    "    nn.Linear(in_features, len(label_to_idx))\n",
    ")\n",
    "# layer4와 fc만 학습되도록 설정\n",
    "for name, param in model.named_parameters():\n",
    "    if 'layer4' in name or 'fc' in name:\n",
    "        param.requires_grad = True\n",
    "    else:\n",
    "        param.requires_grad = False\n",
    "\n",
    "model = model.to(device)\n",
    "\n",
    "criterion = nn.CrossEntropyLoss()\n",
    "optimizer = optim.Adam(model.parameters(), lr=1e-5)  "
   ]
  },
  {
   "cell_type": "code",
   "execution_count": null,
   "metadata": {
    "vscode": {
     "languageId": "plaintext"
    }
   },
   "outputs": [],
   "source": [
    "# 9. 학습 함수 정의\n",
    "def train_epoch(model, dataloader, criterion, optimizer, device):\n",
    "    model.train()\n",
    "    running_loss = 0\n",
    "    correct = 0\n",
    "    total = 0\n",
    "\n",
    "    for images, labels in tqdm(dataloader):\n",
    "        images, labels = images.to(device), labels.to(device)\n",
    "\n",
    "        optimizer.zero_grad()\n",
    "        outputs = model(images)\n",
    "        loss = criterion(outputs, labels)\n",
    "        loss.backward()\n",
    "        optimizer.step()\n",
    "\n",
    "        running_loss += loss.item() * images.size(0)\n",
    "        _, preds = torch.max(outputs, 1)\n",
    "        correct += (preds == labels).sum().item()\n",
    "        total += labels.size(0)\n",
    "\n",
    "    return running_loss / total, correct / total"
   ]
  },
  {
   "cell_type": "code",
   "execution_count": null,
   "metadata": {
    "vscode": {
     "languageId": "plaintext"
    }
   },
   "outputs": [],
   "source": [
    "# 10. 검증 함수 정의\n",
    "def eval_model(model, dataloader, criterion, device):\n",
    "    model.eval()\n",
    "    running_loss = 0\n",
    "    correct = 0\n",
    "    total = 0\n",
    "\n",
    "    with torch.no_grad():\n",
    "        for images, labels in tqdm(dataloader):\n",
    "            images, labels = images.to(device), labels.to(device)\n",
    "            outputs = model(images)\n",
    "            loss = criterion(outputs, labels)\n",
    "\n",
    "            running_loss += loss.item() * images.size(0)\n",
    "            _, preds = torch.max(outputs, 1)\n",
    "            correct += (preds == labels).sum().item()\n",
    "            total += labels.size(0)\n",
    "\n",
    "    return running_loss / total, correct / total"
   ]
  },
  {
   "cell_type": "code",
   "execution_count": null,
   "metadata": {
    "vscode": {
     "languageId": "plaintext"
    }
   },
   "outputs": [],
   "source": [
    "# 11. 학습 루프\n",
    "num_epochs = 20\n",
    "best_val_acc = 0\n",
    "# best_val_loss = float('inf')  # val_loss 최소값 초기화\n",
    "# 손실도로 early stop하기\n",
    "patience = 5  # early stop 기준\n",
    "early_stop_counter = 0\n",
    "# 히스토리 저장할 리스트\n",
    "train_losses, val_losses = [], []\n",
    "train_accuracies, val_accuracies = [], []\n",
    "\n",
    "for epoch in range(num_epochs):\n",
    "\n",
    "    print(f\"\\nEpoch {epoch+1}/{num_epochs}\")\n",
    "\n",
    "    train_loss, train_acc = train_epoch(model, train_loader, criterion, optimizer, device)\n",
    "    print(f\"Train Loss: {train_loss:.4f}, Train Acc: {train_acc:.4f}\")\n",
    "\n",
    "    val_loss, val_acc = eval_model(model, val_loader, criterion, device)\n",
    "    print(f\"Val Loss: {val_loss:.4f}, Val Acc: {val_acc:.4f}\")\n",
    "\n",
    "    # 히스토리 저장\n",
    "    train_losses.append(train_loss)\n",
    "    val_losses.append(val_loss)\n",
    "    train_accuracies.append(train_acc)\n",
    "    val_accuracies.append(val_acc)\n",
    "\n",
    "    if val_acc > best_val_acc:\n",
    "         best_val_acc = val_acc\n",
    "         torch.save(model.state_dict(), 'best_emotion_model.pth')\n",
    "         early_stop_counter = 0 # 성능 좋아졌으니까 성능 초기화\n",
    "    else:\n",
    "         early_stop_counter += 1\n",
    "         print(f\"⏸No improvement. Early stop counter: {early_stop_counter}/{patience}\")\n",
    "         if early_stop_counter >= patience:\n",
    "             print(\"Early stopping triggered!\")\n",
    "             break"
   ]
  },
  {
   "cell_type": "code",
   "execution_count": null,
   "metadata": {
    "vscode": {
     "languageId": "plaintext"
    }
   },
   "outputs": [],
   "source": [
    "# 12. 테스트 데이터 정확도 측정\n",
    "model.load_state_dict(torch.load('best_emotion_model.pth'))\n",
    "test_loss, test_acc = eval_model(model, test_loader, criterion, device)\n",
    "print(f\"\\nTest Loss: {test_loss:.4f}, Test Accuracy: {test_acc:.4f}\")"
   ]
  },
  {
   "cell_type": "code",
   "execution_count": null,
   "metadata": {
    "vscode": {
     "languageId": "plaintext"
    }
   },
   "outputs": [],
   "source": [
    "# 13. 끝\n",
    "print(f\"\\n학습 완료! {datetime.now().strftime('%Y-%m-%d %H:%M:%S')}\")"
   ]
  }
 ],
 "metadata": {
  "language_info": {
   "name": "python"
  }
 },
 "nbformat": 4,
 "nbformat_minor": 2
}
